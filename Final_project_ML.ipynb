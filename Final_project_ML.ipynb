{
 "cells": [
  {
   "cell_type": "code",
   "execution_count": 2,
   "metadata": {},
   "outputs": [],
   "source": [
    "import pandas as pd\n",
    "import numpy as np\n",
    "import matplotlib.pyplot as plt\n",
    "import seaborn as sns\n",
    "import datetime\n",
    "from sklearn.linear_model import LinearRegression\n",
    "from sklearn.metrics import mean_squared_error, f1_score\n",
    "from sklearn.linear_model import LogisticRegression\n",
    "from sklearn.metrics import f1_score"
   ]
  },
  {
   "cell_type": "code",
   "execution_count": 3,
   "metadata": {
    "pycharm": {
     "name": "#%%\n"
    }
   },
   "outputs": [],
   "source": [
    "#1\n",
    "energy=pd.read_csv('energy_data.csv')\n",
    "weather=pd.read_csv('weather_data.csv')"
   ]
  },
  {
   "cell_type": "code",
   "execution_count": 4,
   "metadata": {},
   "outputs": [],
   "source": [
    "energy['date']=pd.to_datetime(energy['Date & Time']).apply(lambda x:x.floor('d'))"
   ]
  },
  {
   "cell_type": "code",
   "execution_count": 5,
   "metadata": {},
   "outputs": [],
   "source": [
    "energy_merge=energy.groupby('date')['use [kW]'].sum().reset_index() #sum the energy usage"
   ]
  },
  {
   "cell_type": "code",
   "execution_count": 6,
   "metadata": {},
   "outputs": [],
   "source": [
    "weather['date']=pd.to_datetime(weather['time'],unit='s').apply(lambda x:x.floor('d'))"
   ]
  },
  {
   "cell_type": "code",
   "execution_count": 7,
   "metadata": {},
   "outputs": [],
   "source": [
    "weather_merge=weather.drop('time',axis=1).groupby('date').mean().reset_index()  #per day use"
   ]
  },
  {
   "cell_type": "code",
   "execution_count": 8,
   "metadata": {},
   "outputs": [],
   "source": [
    "merged=energy_merge.merge(weather_merge,on='date',how='inner') #merge it with weather data"
   ]
  },
  {
   "cell_type": "code",
   "execution_count": 9,
   "metadata": {},
   "outputs": [
    {
     "name": "stdout",
     "output_type": "stream",
     "text": [
      "          date   use [kW]  temperature  humidity  visibility     pressure  \\\n",
      "0   2014-01-01  65.013592    20.110833  0.556667    9.970000  1025.395000   \n",
      "1   2014-01-02  32.305336    16.382500  0.784583    3.834583  1023.465833   \n",
      "2   2014-01-03  31.164468     6.256667  0.680833    4.509167  1014.428750   \n",
      "3   2014-01-04  45.287782     2.711667  0.617083    9.822917  1030.096250   \n",
      "4   2014-01-05  36.316643    17.654167  0.682083    9.134583  1025.275000   \n",
      "..         ...        ...          ...       ...         ...          ...   \n",
      "360 2014-12-27  35.046127    35.487083  0.756250    9.246250  1022.081667   \n",
      "361 2014-12-28  37.695824    41.892917  0.763750    9.332917  1013.549167   \n",
      "362 2014-12-29  28.675929    34.728333  0.592083    9.997083  1018.870833   \n",
      "363 2014-12-30  31.514313    24.846667  0.488750    9.998333  1026.102083   \n",
      "364 2014-12-31  28.674498    19.522917  0.552917    9.986250  1025.940833   \n",
      "\n",
      "     windSpeed  cloudCover  windBearing  precipIntensity   dewPoint  \\\n",
      "0     6.820417    0.031304   252.291667         0.000000   6.362083   \n",
      "1     7.433750    0.354444    53.458333         0.002004  10.737083   \n",
      "2    12.828333    0.186364   207.333333         0.002029  -2.337500   \n",
      "3     5.248333    0.001667   240.166667         0.000000  -8.352083   \n",
      "4     3.417083    0.010952   208.958333         0.000033   8.615000   \n",
      "..         ...         ...          ...              ...        ...   \n",
      "360   3.677083    0.030417   243.791667         0.000000  27.992500   \n",
      "361   6.587917    0.245909   224.458333         0.003996  34.876250   \n",
      "362   8.129583    0.119167   281.833333         0.000000  21.570000   \n",
      "363   7.566667    0.031250   312.041667         0.000000   7.772083   \n",
      "364   5.943750    0.117917   260.083333         0.000000   5.332500   \n",
      "\n",
      "     precipProbability  \n",
      "0             0.000000  \n",
      "1             0.074583  \n",
      "2             0.080000  \n",
      "3             0.000000  \n",
      "4             0.000417  \n",
      "..                 ...  \n",
      "360           0.000000  \n",
      "361           0.137917  \n",
      "362           0.000000  \n",
      "363           0.000000  \n",
      "364           0.000000  \n",
      "\n",
      "[365 rows x 12 columns]\n"
     ]
    }
   ],
   "source": [
    "print(merged)\n",
    "#task2\n",
    "train=merged[:-182] #split the dataset to train and test sets\n",
    "test=merged[-182:].drop('use [kW]',axis=1) #only using the use[kw] column\n",
    "# print(train)\n",
    "# print(test)"
   ]
  },
  {
   "cell_type": "code",
   "execution_count": 10,
   "metadata": {},
   "outputs": [],
   "source": [
    "#task3 using linearRegression model to train\n",
    "reg=LinearRegression().fit(train.drop(['date','use [kW]'],axis=1),train['use [kW]'])"
   ]
  },
  {
   "cell_type": "code",
   "execution_count": 11,
   "metadata": {},
   "outputs": [],
   "source": [
    "predictions=reg.predict(test.drop('date',axis=1)) #using the model to predict on the test set"
   ]
  },
  {
   "cell_type": "code",
   "execution_count": 12,
   "metadata": {},
   "outputs": [
    {
     "name": "stdout",
     "output_type": "stream",
     "text": [
      "[36.22688918 36.98024922 29.6487493  33.16242178 32.69400118 30.55955613\n",
      " 31.75932817 36.20745397 33.13840344 35.76080215 35.36175276 35.74824658\n",
      " 29.42422414 34.56169785 36.26537758 36.38363734 35.19185821 32.19151105\n",
      " 33.94689411 36.07159478 35.10970882 37.3863836  33.32100111 34.15380647\n",
      " 34.72156135 30.24373411 32.36613832 32.11723251 32.2225044  36.30114132\n",
      " 35.66001103 33.93003404 34.94375302 37.28375227 32.64909618 33.51057544\n",
      " 34.03482899 34.11152643 33.13749483 34.27794753 34.28913125 51.09789532\n",
      " 31.63211594 31.41083821 31.79600963 31.98257082 32.67535749 29.54818429\n",
      " 33.40230068 31.20511986 21.14193966 28.67577451 32.51862643 35.39439365\n",
      " 36.57630636 39.68478321 34.58192751 34.81512251 33.57616573 34.25221599\n",
      " 39.67529352 36.11598479 34.20466062 35.11307083 36.10141013 34.90811496\n",
      " 32.06145884 30.77655285 32.50633984 31.02078434 28.70069214 35.66937196\n",
      " 30.12738005 33.49988893 29.40570266 28.01169575 33.22097226 32.8664756\n",
      " 29.41706543 31.98920281 31.88058584 32.03733507 33.98694182 32.80969098\n",
      " 30.89843155 29.94560193 33.86867112 37.48696313 34.06776423 27.91552441\n",
      " 19.5867684  20.4450899  30.55816484 29.44556228 27.6006201  30.00649172\n",
      " 29.76135241 27.32480845 30.90108543 31.87175313 24.62213095 34.1343979\n",
      " 30.29940925 33.03763368 31.80171762 28.9322039  29.51186286 27.41331741\n",
      " 29.73431533 30.06423788 26.66539897 18.75502864 23.36676949 20.6662569\n",
      " 30.30096046 29.00915987 32.25869074 28.25928478 31.80197911 30.08319642\n",
      " 26.43077231 17.7648754  22.5588237  29.35088986 28.75765581 32.30056301\n",
      " 26.54877602 21.93595299 30.31905496 31.31898671 27.16203924 28.40718008\n",
      " 32.04551887 32.38262606 26.46330886 30.37977048 28.03624839 24.92602833\n",
      " 23.66898027 28.73392274 28.35310477 31.04826639 29.08639438 31.78622048\n",
      " 30.92535066 29.28867472 34.17875045 22.43878963 26.60145866 27.57431229\n",
      " 27.82302177 30.16517092 33.97287366 21.46094468 32.61771743 27.74490406\n",
      " 20.55457459 24.29801064 29.44167262 27.22797359 18.42047578 21.59660879\n",
      " 24.22697251 27.10592514 26.04280065 29.00278113 20.72055278 21.68766813\n",
      " 26.98688933 27.52766264 28.19444827 21.72117325 19.45568751 13.92554745\n",
      " 19.54125489 24.78377316 33.18065489 28.91090882 24.61368369 31.00474088\n",
      " 32.58075832 29.47712839]\n",
      "[21.57782311 19.34467933 17.59240483  7.78093914 17.94164187 35.15887105\n",
      " 20.2079925  18.75924317 19.82504527 11.30150742 31.28307684 32.1244018\n",
      " 26.27764085 31.97989157 24.23532704 19.86937852 22.320769   21.3760931\n",
      " 20.84566105 30.18933845 24.90174049 18.7948103  18.39843684 18.01211943\n",
      " 26.20112991 22.64372971 24.55715741 20.86642663 20.99802585 20.66146724\n",
      " 24.63344867 27.6910454  25.60666406 25.75796749 15.22476111 24.49633722\n",
      " 19.12368033 12.41936902 18.60109071 28.29311321 18.03855267 13.76937528\n",
      " 12.50324837 22.24490766 28.64272972 23.01391375 22.86438143 20.34756384\n",
      " 21.36653463 12.41599242 25.70361232 28.69594195 23.05083549 32.68693271\n",
      " 29.6789407  25.41185682 20.23947757 24.63567151 17.90166729 18.62198475\n",
      " 30.14722792 23.86165815 20.14179169 28.24785921 15.43622162 20.54619068\n",
      " 29.44723673 29.03147111 35.33627461 32.13539761 35.17614387 24.68556751\n",
      " 23.64749448 31.45157796 24.07386923 22.1983272  19.22876775 24.4732817\n",
      " 30.23807784 29.95329609 26.4538071  27.94863521 20.70304409 22.94778597\n",
      " 24.23188674 17.16158696 30.94675117 27.17261157 30.84156712 23.71392952\n",
      " 29.99880464 29.34972907 25.73503355 34.25002452 26.71942345 23.47178042\n",
      " 25.23049536 39.59194059 26.45572044 20.26769521 39.68766787 24.42909539\n",
      " 36.85265443 35.59773221 38.31922339 24.09317609 22.11237061 24.31661506\n",
      " 22.45159241 17.9512999  14.40577795 37.60523267 34.60046273 20.46194215\n",
      " 21.70636144 38.42434461 31.84115971 31.48739819 29.65041669 26.88905541\n",
      " 39.66836992 39.39007616 36.97195558 37.36377409 35.43290444 30.59203332\n",
      " 24.10327649 37.94332928 33.33055102 43.85797187 24.17624779 27.0352146\n",
      " 41.4101659  37.17414073 38.52115507 36.7814507  39.94538768 31.94246599\n",
      " 29.98440923 28.46382556 33.50256897 41.6293968  40.46813933 38.93492736\n",
      " 39.51819612 38.18882845 47.8389281  29.61805919 30.79599723 37.56333821\n",
      " 33.416552   28.31918372 38.91130626 43.85844791 43.16775502 44.6157125\n",
      " 42.38768593 40.56889635 40.52026323 45.33708302 46.06858273 43.33312002\n",
      " 38.25248845 43.95097033 41.53500712 38.30221873 35.94783775 46.35207263\n",
      " 47.20386609 44.04112739 36.68966542 39.23111202 40.58853346 38.70011396\n",
      " 40.72912606 46.70406772 51.18017041 42.29089624 39.18013784 41.88339934\n",
      " 44.09128527 46.43766477 51.76727551]\n",
      "21.31756575666527\n"
     ]
    }
   ],
   "source": [
    "print(predictions)\n",
    "\n",
    "train = merged[-182:]\n",
    "test = merged[:-182].drop('use [kW]',axis=1)\n",
    "reg=LinearRegression().fit(train.drop(['date','use [kW]'],axis=1),train['use [kW]'])\n",
    "predictions=reg.predict(test.drop('date',axis=1))\n",
    "\n",
    "\n",
    "\n",
    "\n",
    "print(predictions)\n",
    "\n",
    "rmse=mean_squared_error(merged[-183:]['use [kW]'],predictions,squared=False) #the root mean squared error\n",
    "print(rmse)\n",
    "# rmse\n",
    "#"
   ]
  },
  {
   "cell_type": "code",
   "execution_count": 13,
   "metadata": {},
   "outputs": [],
   "source": [
    "# linear=merged[-31:][['date']].reset_index(drop=True)\n",
    "# linear['predicted']=predictions #only two colounms\n",
    "#"
   ]
  },
  {
   "cell_type": "code",
   "execution_count": 14,
   "metadata": {},
   "outputs": [],
   "source": [
    "# linear.to_csv('linear_predictions.csv') #generate the csv file.\n",
    "#"
   ]
  },
  {
   "cell_type": "code",
   "execution_count": 15,
   "metadata": {},
   "outputs": [],
   "source": [
    "# df=weather_merge.copy()\n",
    "# df['temperature']=df['temperature'].apply(lambda x:1 if x>=60 else 0)\n",
    "#"
   ]
  },
  {
   "cell_type": "code",
   "execution_count": 16,
   "metadata": {},
   "outputs": [],
   "source": [
    "# #splitting to train and test sets\n",
    "# train=df[:-31]\n",
    "# test=df[-31:].drop('temperature',axis=1)\n",
    "#"
   ]
  },
  {
   "cell_type": "code",
   "execution_count": 17,
   "metadata": {},
   "outputs": [],
   "source": [
    "# train\n",
    "#"
   ]
  },
  {
   "cell_type": "code",
   "execution_count": 18,
   "metadata": {},
   "outputs": [],
   "source": [
    "# #using logisticRegression model to train\n",
    "# clf=LogisticRegression(random_state=0).fit(train.drop(['date','temperature'],axis=1),train['temperature'])\n",
    "# classifications=clf.predict(test.drop('date',axis=1)) #use the classifier just trained to predict on test set,\n",
    "#"
   ]
  },
  {
   "cell_type": "code",
   "execution_count": 19,
   "metadata": {},
   "outputs": [],
   "source": [
    "# #get the F1 score of the prediction on test set\n",
    "# f1_score(df[-31:]['temperature'],classifications,zero_division=1)\n",
    "#"
   ]
  },
  {
   "cell_type": "code",
   "execution_count": 20,
   "metadata": {},
   "outputs": [],
   "source": [
    "# logistic=df[-31:][['date']].reset_index(drop=True)\n",
    "# logistic['classified']=classifications #only two columns\n",
    "# logistic.to_csv('logistic_classifications.csv') #output to csv file\n",
    "#"
   ]
  },
  {
   "cell_type": "code",
   "execution_count": 21,
   "metadata": {},
   "outputs": [],
   "source": [
    "# energy['date'] = pd.to_datetime(energy['Date & Time']).apply(lambda x:str(x.time())[0:5])\n",
    "# df = energy.groupby('date')['Microwave (R) [kW]',\"Fridge (R) [kW]\"].sum().reset_index()\n",
    "# day = df[12:38]\n",
    "#\n",
    "# night = pd.concat([df[0:12],df[38:]]) #extract the columns we need and seperate them based on time, day and night\n",
    "#\n",
    "# plt.figure(figsize=(20,5))\n",
    "# plt.plot(day['date'],day['Microwave (R) [kW]'],label=\"Microwave (R) [kW]\")\n",
    "# plt.plot(day['date'],day['Fridge (R) [kW]'],label=\"Fridge (R) [kW]\")\n",
    "# # plt.plot(night['Private room'],data=df,label='Private room')\n",
    "# # plt.plot(room_neighbour['Shared room'],data=df,label='Shared room')\n",
    "# plt.title('Energy used of two devices based on different times in day')\n",
    "# plt.xlabel('times in day')\n",
    "# plt.ylabel('Energy Usage,[kW]')\n",
    "# plt.legend()\n",
    "# plt.show()\n",
    "# #draw the plot of devices usage during day\n",
    "#\n",
    "# plt.figure(figsize=(20,5))\n",
    "# plt.plot(night['date'],night['Microwave (R) [kW]'],label=\"Microwave (R) [kW]\")\n",
    "# plt.plot(night['date'],night['Fridge (R) [kW]'],label=\"Fridge (R) [kW]\")\n",
    "# plt.title('Energy used of two devices based on different times in day')\n",
    "# plt.xlabel('times in night')\n",
    "# plt.ylabel('Energy Usage,[kW]')\n",
    "# plt.legend()\n",
    "# plt.show()\n",
    "# #draw the plot of devices usage during night\n",
    "# #There is some very iteresting findings, microwave is somehow having a very much similar trend comparing to fridge, maybe they both serve some\n",
    "# #need that people need in the same time, like cooking? and the plot showed during three particular times that these are needed the most\n",
    "# #morning, 6:30-8:00 am, 11:30am - 1:30pm and 17:30 - 19:30pm\n",
    "# #and another interesting finding is that maybe because different people eat at different time, in 1.30-3.00pm, these two are\n",
    "# #used as well"
   ]
  }
 ],
 "metadata": {
  "kernelspec": {
   "display_name": "Python 3",
   "language": "python",
   "name": "python3"
  },
  "language_info": {
   "codemirror_mode": {
    "name": "ipython",
    "version": 3
   },
   "file_extension": ".py",
   "mimetype": "text/x-python",
   "name": "python",
   "nbconvert_exporter": "python",
   "pygments_lexer": "ipython3",
   "version": "3.7.6"
  }
 },
 "nbformat": 4,
 "nbformat_minor": 4
}